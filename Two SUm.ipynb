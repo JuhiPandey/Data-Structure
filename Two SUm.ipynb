{
 "cells": [
  {
   "cell_type": "code",
   "execution_count": 7,
   "metadata": {},
   "outputs": [
    {
     "name": "stdout",
     "output_type": "stream",
     "text": [
      "[1, 2, 3, 4, 5, 6] 9\n",
      "(2, 5)\n"
     ]
    }
   ],
   "source": [
    "class Solution(object):\n",
    "    def twoSum(self, nums, target):\n",
    "        \"\"\"\n",
    "        :type nums: List[int]\n",
    "        :type target: int\n",
    "        :rtype: List[int]\n",
    "        \"\"\"\n",
    "        print(nums,target)\n",
    "        if len(nums)<=0:\n",
    "            return -1\n",
    "        elif len(nums)==2:\n",
    "            if nums[0]+nums[1]==target:\n",
    "                return [0,1]\n",
    "            else :\n",
    "                return -1\n",
    "        else:\n",
    "            for i in range(0,len(nums)):\n",
    "                for j in range(1,len(nums)):\n",
    "                    if nums[i]+nums[j]==target:\n",
    "                        return i,j\n",
    "                    else:\n",
    "                        next\n",
    "                        \n",
    "                        \n",
    "s=Solution()\n",
    "nums=[1,2,3,4,5,6]\n",
    "r=s.twoSum(nums,9)\n",
    "print(r)"
   ]
  },
  {
   "cell_type": "code",
   "execution_count": null,
   "metadata": {},
   "outputs": [],
   "source": []
  }
 ],
 "metadata": {
  "kernelspec": {
   "display_name": "Python 3",
   "language": "python",
   "name": "python3"
  },
  "language_info": {
   "codemirror_mode": {
    "name": "ipython",
    "version": 3
   },
   "file_extension": ".py",
   "mimetype": "text/x-python",
   "name": "python",
   "nbconvert_exporter": "python",
   "pygments_lexer": "ipython3",
   "version": "3.8.5"
  }
 },
 "nbformat": 4,
 "nbformat_minor": 4
}
