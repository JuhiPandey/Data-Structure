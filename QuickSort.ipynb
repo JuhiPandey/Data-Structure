{
 "cells": [
  {
   "cell_type": "code",
   "execution_count": 77,
   "metadata": {},
   "outputs": [
    {
     "name": "stdout",
     "output_type": "stream",
     "text": [
      "Given array=== [10, 16, 8, 12, 15, 6, 3, 9]\n",
      "After partition array=== [6, 9, 8, 3, 10, 15, 12, 16]\n",
      "5 4\n",
      "***********************************\n",
      "First half--- [6, 9, 8]\n",
      "After partition array=== [3, 6, 8, 9, 10, 15, 12, 16]\n",
      "2 1\n",
      "***********************************\n",
      "First half--- []\n",
      "Second half--- [8]\n",
      "***********************************\n",
      "After partition array=== [3, 6, 8, 9, 10, 15, 12, 16]\n",
      "3 2\n",
      "***********************************\n",
      "First half--- []\n",
      "Second half--- []\n",
      "***********************************\n",
      "[3, 6, 8, 9, 10, 15, 12, 16]\n",
      "[3, 6, 8, 9, 10, 15, 12, 16]\n",
      "Second half--- [15, 12]\n",
      "***********************************\n",
      "After partition array=== [3, 6, 8, 9, 10, 12, 15, 16]\n",
      "7 6\n",
      "***********************************\n",
      "First half--- []\n",
      "Second half--- []\n",
      "***********************************\n",
      "[3, 6, 8, 9, 10, 12, 15, 16]\n",
      "[3, 6, 8, 9, 10, 12, 15, 16]\n"
     ]
    }
   ],
   "source": [
    "class QuickSort:\n",
    "    \n",
    "    a=list()\n",
    "    def partitioning(self,l,h):\n",
    "        p=self.a[l]\n",
    "        i=l\n",
    "        j=h\n",
    "       \n",
    "        while(i<j):\n",
    "            \n",
    "            while (self.a[i]<=p):\n",
    "                    \n",
    "                i=i+1\n",
    "                \n",
    "            while (self.a[j]>p):\n",
    "                \n",
    "                j=j-1\n",
    "            if(i<j):    \n",
    "                self.a[i],self.a[j]=self.a[j],self.a[i]\n",
    "\n",
    "        self.a[j],self.a[l]=self.a[l],self.a[j]\n",
    "        print(\"After partition array===\",self.a)\n",
    "        print(i,j) \n",
    "        return j\n",
    "    \n",
    "    def quickSort(self,l,h):\n",
    "        if(l<h):\n",
    "            j= self.partitioning(l,h)\n",
    "            print(\"***********************************\")\n",
    "            print(\"First half---\",self.a[l:j-1])\n",
    "            self.quickSort(l,j-1)\n",
    "            print(\"Second half---\",self.a[j+1:h])\n",
    "            print(\"***********************************\")\n",
    "            self.quickSort(j+1,h)\n",
    "            print(self.a)\n",
    "        \n",
    "        \n",
    "                \n",
    "q=QuickSort()        \n",
    "q.a=[10,16,8,12,15,6,3,9]\n",
    "l=0\n",
    "h=len(q.a)-1\n",
    "print(\"Given array===\",q.a)\n",
    "\n",
    "q.quickSort(l,h)"
   ]
  },
  {
   "cell_type": "code",
   "execution_count": null,
   "metadata": {},
   "outputs": [],
   "source": [
    "Average case O(nLogn)"
   ]
  }
 ],
 "metadata": {
  "kernelspec": {
   "display_name": "Python 3",
   "language": "python",
   "name": "python3"
  },
  "language_info": {
   "codemirror_mode": {
    "name": "ipython",
    "version": 3
   },
   "file_extension": ".py",
   "mimetype": "text/x-python",
   "name": "python",
   "nbconvert_exporter": "python",
   "pygments_lexer": "ipython3",
   "version": "3.8.5"
  }
 },
 "nbformat": 4,
 "nbformat_minor": 4
}
