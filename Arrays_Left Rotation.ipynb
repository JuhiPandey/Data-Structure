{
 "cells": [
  {
   "cell_type": "code",
   "execution_count": 33,
   "metadata": {},
   "outputs": [
    {
     "name": "stdout",
     "output_type": "stream",
     "text": [
      "Initial array-- [10, 12, 53, 47, 50, 16]\n",
      "Length of array-- 6\n",
      "[16, 12, 53, 47, 50, 16]\n",
      "****Final**********\n",
      "[16, 10, 12, 53, 47, 50]\n"
     ]
    }
   ],
   "source": [
    "class arrayleftRot:\n",
    "    def rotate(self,a,n):\n",
    "        print(\"Initial array--\",a)\n",
    "        print(\"Length of array--\",len(a))\n",
    "       \n",
    "        temp=a[0:n]\n",
    "        for i in range(0,len(a)):\n",
    "            j=i+n\n",
    "            if j<len(a):\n",
    "                \n",
    "                a[i]=a[j]\n",
    "        print(a) \n",
    "        for i in range(0,n):\n",
    "            j=i+len(a)-n\n",
    "            a[j]=temp[i]\n",
    "            \n",
    "        print(\"****Final**********\")        \n",
    "        print(a)        \n",
    "        \n",
    "        \n",
    "r=arrayleftRot()\n",
    "a=[10,12,53,47,50,16]\n",
    "r.rotate(a,5)\n",
    "            "
   ]
  },
  {
   "cell_type": "code",
   "execution_count": null,
   "metadata": {},
   "outputs": [],
   "source": []
  }
 ],
 "metadata": {
  "kernelspec": {
   "display_name": "Python 3",
   "language": "python",
   "name": "python3"
  }
 },
 "nbformat": 4,
 "nbformat_minor": 4
}
