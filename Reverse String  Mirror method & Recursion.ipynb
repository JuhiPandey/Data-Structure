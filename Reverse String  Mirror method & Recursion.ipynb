{
 "cells": [
  {
   "cell_type": "code",
   "execution_count": null,
   "metadata": {},
   "outputs": [],
   "source": [
    "class Solution:\n",
    "    def reverseString(self, s) -> None:\n",
    "       \n",
    "        size = len(s)\n",
    "        print(s)\n",
    "        \n",
    "\t\t# reverse string by mirror image\n",
    "        for i in range(size//2):\n",
    "            \n",
    "#             print(s[i], s[-i-1])\n",
    "            s[i], s[-i-1] = s[-i-1], s[i]\n",
    "            print(s)    \n",
    "    \n",
    "s = [\"h\",\"e\",\"l\",\"p\",\"o\",\"k\"]\n",
    "t=Solution()\n",
    "t.reverseString(s)"
   ]
  },
  {
   "cell_type": "code",
   "execution_count": 11,
   "metadata": {},
   "outputs": [
    {
     "name": "stdout",
     "output_type": "stream",
     "text": [
      "['k', 'o', 'p', 'l', 'e', 'h']\n"
     ]
    }
   ],
   "source": [
    "class Solution:\n",
    "    def reverseString(self, s):\n",
    "        def helper( left ,right, string):     \n",
    "            \n",
    "            if left >= right:\n",
    "                # base case\n",
    "                return\n",
    "            \n",
    "            # general case\n",
    "            s[left], s[right] = s[right], s[left]\n",
    "            \n",
    "            helper( left+1, right-1, s)\n",
    "        # ------------------------------------------------\n",
    "        \n",
    "        helper( left = 0, right = len(s)-1, string = s)\n",
    "        print(s)\n",
    "s = [\"h\",\"e\",\"l\",\"p\",\"o\",\"k\"]\n",
    "t=Solution()\n",
    "t.reverseString(s)        "
   ]
  },
  {
   "cell_type": "code",
   "execution_count": null,
   "metadata": {},
   "outputs": [],
   "source": []
  }
 ],
 "metadata": {
  "kernelspec": {
   "display_name": "Python 3",
   "language": "python",
   "name": "python3"
  },
  "language_info": {
   "codemirror_mode": {
    "name": "ipython",
    "version": 3
   },
   "file_extension": ".py",
   "mimetype": "text/x-python",
   "name": "python",
   "nbconvert_exporter": "python",
   "pygments_lexer": "ipython3",
   "version": "3.8.5"
  }
 },
 "nbformat": 4,
 "nbformat_minor": 4
}
