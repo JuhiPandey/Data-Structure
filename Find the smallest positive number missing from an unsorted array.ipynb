{
 "cells": [
  {
   "cell_type": "code",
   "execution_count": 55,
   "metadata": {},
   "outputs": [
    {
     "name": "stdout",
     "output_type": "stream",
     "text": [
      "Given Araay- [2, 3, 7, 6, 8, -1, -10, 15, 1]\n",
      "Sorted Araay- [-10, -1, 1, 2, 3, 6, 7, 8, 15]\n",
      "Total Sum- 65\n",
      "Total sum of array- 31\n",
      "The number is - 4\n",
      "***********************\n",
      "Given Araay- [2, 3, -7, 6, 8, 1, -10, 15]\n",
      "Sorted Araay- [-10, -7, 1, 2, 3, 6, 8, 15]\n",
      "Total Sum- 65\n",
      "Total sum of array- 18\n",
      "The number is - 4\n",
      "***********************\n",
      "Given Araay- [1, 1, 0, -1, -2]\n",
      "Sorted Araay- [-2, -1, 0, 1, 1]\n",
      "Total Sum- -2\n",
      "Total sum of array- -1\n",
      "The number is - 2\n"
     ]
    }
   ],
   "source": [
    "class Solution:\n",
    "    \n",
    "   \n",
    "    \n",
    "    def solution(self,arr):\n",
    "        c=0\n",
    "        if len(arr)==0 or len(arr)==1:\n",
    "            return False\n",
    "        print(\"Given Araay-\",arr)\n",
    "        arr.sort()\n",
    "        print(\"Sorted Araay-\",arr)\n",
    "        minimum=min(arr)\n",
    "        maximum=max(arr)\n",
    "        for i in range(minimum,maximum+1):\n",
    "            c=c+i\n",
    "        print(\"Total Sum-\",c)\n",
    "        print(\"Total sum of array-\",sum(arr))\n",
    "        \n",
    "        if c==sum(arr):\n",
    "            print(\"The number is -\",maximum+1)\n",
    "        if 1 not in arr:\n",
    "            print(\"The number is -\",1)\n",
    "            \n",
    "        else :\n",
    "            c=2\n",
    "            for i in range(0,len(arr)):\n",
    "                if c not in arr:\n",
    "                    c=c\n",
    "                else:\n",
    "                    c=c+1\n",
    "        print(\"The number is -\",c)    \n",
    "                \n",
    "            \n",
    "s=Solution()\n",
    "arr=[2, 3, 7, 6, 8, -1, -10, 15,1]\n",
    "s.solution(arr)\n",
    "\n",
    "print(\"***********************\")\n",
    "\n",
    "arr=[ 2, 3, -7, 6, 8, 1, -10, 15 ]       \n",
    "s.solution(arr)\n",
    "\n",
    "print(\"***********************\")\n",
    "\n",
    "arr=[ 1, 1, 0, -1, -2]       \n",
    "s.solution(arr)"
   ]
  },
  {
   "cell_type": "code",
   "execution_count": null,
   "metadata": {},
   "outputs": [],
   "source": []
  }
 ],
 "metadata": {
  "kernelspec": {
   "display_name": "Python 3",
   "language": "python",
   "name": "python3"
  },
  "language_info": {
   "codemirror_mode": {
    "name": "ipython",
    "version": 3
   },
   "file_extension": ".py",
   "mimetype": "text/x-python",
   "name": "python",
   "nbconvert_exporter": "python",
   "pygments_lexer": "ipython3",
   "version": "3.8.5"
  }
 },
 "nbformat": 4,
 "nbformat_minor": 4
}
