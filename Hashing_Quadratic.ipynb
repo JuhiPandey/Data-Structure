{
 "cells": [
  {
   "cell_type": "code",
   "execution_count": 8,
   "metadata": {},
   "outputs": [
    {
     "name": "stdout",
     "output_type": "stream",
     "text": [
      "After insert-- [None, None, None, None, None, 5, None, None, None, None]\n",
      "After insert-- [None, None, None, None, None, 5, None, None, 18, None]\n",
      "After insert-- [None, None, 2, None, None, 5, None, None, 18, None]\n",
      "After insert-- [None, None, 2, 12, None, 5, None, None, 18, None]\n",
      "After insert-- [None, None, 2, 12, None, 5, None, 22, 18, None]\n"
     ]
    },
    {
     "ename": "IndexError",
     "evalue": "list index out of range",
     "output_type": "error",
     "traceback": [
      "\u001b[1;31m---------------------------------------------------------------------------\u001b[0m",
      "\u001b[1;31mIndexError\u001b[0m                                Traceback (most recent call last)",
      "\u001b[1;32m<ipython-input-8-cee3ca5e57e4>\u001b[0m in \u001b[0;36m<module>\u001b[1;34m\u001b[0m\n\u001b[0;32m     39\u001b[0m \u001b[0mg\u001b[0m\u001b[1;33m.\u001b[0m\u001b[0minsert_key\u001b[0m\u001b[1;33m(\u001b[0m\u001b[1;36m12\u001b[0m\u001b[1;33m)\u001b[0m\u001b[1;33m\u001b[0m\u001b[1;33m\u001b[0m\u001b[0m\n\u001b[0;32m     40\u001b[0m \u001b[0mg\u001b[0m\u001b[1;33m.\u001b[0m\u001b[0minsert_key\u001b[0m\u001b[1;33m(\u001b[0m\u001b[1;36m22\u001b[0m\u001b[1;33m)\u001b[0m\u001b[1;33m\u001b[0m\u001b[1;33m\u001b[0m\u001b[0m\n\u001b[1;32m---> 41\u001b[1;33m \u001b[0mg\u001b[0m\u001b[1;33m.\u001b[0m\u001b[0minsert_key\u001b[0m\u001b[1;33m(\u001b[0m\u001b[1;36m32\u001b[0m\u001b[1;33m)\u001b[0m\u001b[1;33m\u001b[0m\u001b[1;33m\u001b[0m\u001b[0m\n\u001b[0m",
      "\u001b[1;32m<ipython-input-8-cee3ca5e57e4>\u001b[0m in \u001b[0;36minsert_key\u001b[1;34m(self, key)\u001b[0m\n\u001b[0;32m     20\u001b[0m         \u001b[1;32melse\u001b[0m\u001b[1;33m:\u001b[0m\u001b[1;31m#collision occured\u001b[0m\u001b[1;33m\u001b[0m\u001b[1;33m\u001b[0m\u001b[0m\n\u001b[0;32m     21\u001b[0m \u001b[1;33m\u001b[0m\u001b[0m\n\u001b[1;32m---> 22\u001b[1;33m                 \u001b[1;32mwhile\u001b[0m\u001b[1;33m(\u001b[0m\u001b[0mself\u001b[0m\u001b[1;33m.\u001b[0m\u001b[0mhash_table\u001b[0m\u001b[1;33m[\u001b[0m\u001b[0miv\u001b[0m\u001b[1;33m]\u001b[0m \u001b[1;32mis\u001b[0m \u001b[1;32mnot\u001b[0m \u001b[1;32mNone\u001b[0m\u001b[1;33m)\u001b[0m\u001b[1;33m:\u001b[0m\u001b[1;33m\u001b[0m\u001b[1;33m\u001b[0m\u001b[0m\n\u001b[0m\u001b[0;32m     23\u001b[0m                     \u001b[0mi\u001b[0m\u001b[1;33m=\u001b[0m\u001b[0mi\u001b[0m\u001b[1;33m+\u001b[0m\u001b[1;36m1\u001b[0m\u001b[1;33m\u001b[0m\u001b[1;33m\u001b[0m\u001b[0m\n\u001b[0;32m     24\u001b[0m                     \u001b[0miv\u001b[0m\u001b[1;33m=\u001b[0m\u001b[0mself\u001b[0m\u001b[1;33m.\u001b[0m\u001b[0mhash_func_Quadratic_probing\u001b[0m\u001b[1;33m(\u001b[0m\u001b[0miv\u001b[0m\u001b[1;33m,\u001b[0m\u001b[0mi\u001b[0m\u001b[1;33m)\u001b[0m\u001b[1;33m\u001b[0m\u001b[1;33m\u001b[0m\u001b[0m\n",
      "\u001b[1;31mIndexError\u001b[0m: list index out of range"
     ]
    }
   ],
   "source": [
    "class hash_new:\n",
    "    \n",
    "    hash_table=[None]*10\n",
    "    \n",
    "    def hash_func(self,x):\n",
    "        index_val=x % len(self.hash_table)\n",
    "        return index_val\n",
    "    \n",
    "    def hash_func_Quadratic_probing(self,x,i):\n",
    "        index_val=self.hash_func(x)+ i**2\n",
    "        return index_val\n",
    "     \n",
    "    def insert_key(self,key):\n",
    "        i=0\n",
    "        iv=self.hash_func_Quadratic_probing(key,i)\n",
    "        \n",
    "        if  self.hash_table[iv] is None:\n",
    "            self.hash_table[iv]=key\n",
    "            print(\"After insert--\",self.hash_table)\n",
    "        else:#collision occured\n",
    "            \n",
    "                while(self.hash_table[iv] is not None):\n",
    "                    i=i+1\n",
    "                    iv=self.hash_func_Quadratic_probing(iv,i)\n",
    "                    \n",
    "                self.hash_table[iv]=key    \n",
    "                print(\"After insert--\",self.hash_table)\n",
    "        \n",
    "    def hash_print(self):\n",
    "        print(\"This is my hash table---\")\n",
    "        print(self.hash_table)\n",
    "    \n",
    "        \n",
    "g=hash_new()\n",
    "\n",
    "g.insert_key(5)\n",
    "g.insert_key(18)\n",
    "g.insert_key(2)\n",
    "g.insert_key(12)\n",
    "g.insert_key(22)\n",
    "g.insert_key(32)"
   ]
  },
  {
   "cell_type": "code",
   "execution_count": null,
   "metadata": {},
   "outputs": [],
   "source": []
  }
 ],
 "metadata": {
  "kernelspec": {
   "display_name": "Python 3",
   "language": "python",
   "name": "python3"
  },
  "language_info": {
   "codemirror_mode": {
    "name": "ipython",
    "version": 3
   },
   "file_extension": ".py",
   "mimetype": "text/x-python",
   "name": "python",
   "nbconvert_exporter": "python",
   "pygments_lexer": "ipython3",
   "version": "3.8.5"
  }
 },
 "nbformat": 4,
 "nbformat_minor": 4
}
