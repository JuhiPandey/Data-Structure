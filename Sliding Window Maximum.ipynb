{
 "cells": [
  {
   "cell_type": "code",
   "execution_count": 14,
   "metadata": {},
   "outputs": [
    {
     "name": "stdout",
     "output_type": "stream",
     "text": [
      "[3, 3, 5, 5, 6, 7, 8]\n"
     ]
    }
   ],
   "source": [
    "class Solution:\n",
    "    def slindingwindow(self,a,k):\n",
    "        m=list()\n",
    "        if len(a)<k:\n",
    "            retrun -1\n",
    "            \n",
    "        if len(a)==k:\n",
    "            return max(a)\n",
    "        else:\n",
    "            for i in range(0,len(a)):\n",
    "            \n",
    "                bucket=a[i:i+k]\n",
    "                if len(bucket)==k:\n",
    "                    m.append(max(bucket))\n",
    "                \n",
    "        return m\n",
    "            \n",
    "            \n",
    "s=Solution()\n",
    "a=[1,3,-1,-3,5,3,6,7,8]\n",
    "output=s.slindingwindow(a,3)\n",
    "print(output)"
   ]
  },
  {
   "cell_type": "code",
   "execution_count": null,
   "metadata": {},
   "outputs": [],
   "source": []
  }
 ],
 "metadata": {
  "kernelspec": {
   "display_name": "Python 3",
   "language": "python",
   "name": "python3"
  }
 },
 "nbformat": 4,
 "nbformat_minor": 4
}
