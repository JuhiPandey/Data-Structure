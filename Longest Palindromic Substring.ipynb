{
 "cells": [
  {
   "cell_type": "code",
   "execution_count": 10,
   "metadata": {},
   "outputs": [
    {
     "name": "stdout",
     "output_type": "stream",
     "text": [
      "{'', 'aba', 'bab', 'b', 'a', 'd'}\n",
      "bab\n"
     ]
    }
   ],
   "source": [
    "class Solution:\n",
    "    def task(self,a):\n",
    "        \n",
    "        c=0\n",
    "        l=list()\n",
    "        if len(a)==0 or len(a)==1 :\n",
    "            return a\n",
    "        else:\n",
    "            for i in range(0,len(a)):\n",
    "                for j in range(1,len(a)):\n",
    "                      if a[i]!=a[j]:\n",
    "                        c=c+1\n",
    "                  \n",
    "                      else:\n",
    "                        l.append(a[i:j+1])\n",
    "                        c=0  \n",
    "        print(set(l)) \n",
    "        print(max(l,key=len))\n",
    "        \n",
    "s=Solution()\n",
    "s.task(\"babad\")"
   ]
  },
  {
   "cell_type": "code",
   "execution_count": null,
   "metadata": {},
   "outputs": [],
   "source": []
  }
 ],
 "metadata": {
  "kernelspec": {
   "display_name": "Python 3",
   "language": "python",
   "name": "python3"
  },
  "language_info": {
   "codemirror_mode": {
    "name": "ipython",
    "version": 3
   },
   "file_extension": ".py",
   "mimetype": "text/x-python",
   "name": "python",
   "nbconvert_exporter": "python",
   "pygments_lexer": "ipython3",
   "version": "3.8.5"
  }
 },
 "nbformat": 4,
 "nbformat_minor": 4
}
