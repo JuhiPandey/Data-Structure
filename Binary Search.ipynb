{
 "cells": [
  {
   "cell_type": "code",
   "execution_count": 46,
   "metadata": {},
   "outputs": [
    {
     "name": "stdout",
     "output_type": "stream",
     "text": [
      "position of key is-- 7\n",
      "position of key is-- 4\n",
      "position of key is-- 5\n"
     ]
    }
   ],
   "source": [
    "class BS:\n",
    "    def BSearch(self,a,l,h,key):\n",
    "        if h >= l:\n",
    "            mid=(l+h)//2\n",
    "            \n",
    "            if a[mid]==key :\n",
    "                \n",
    "                return mid\n",
    "\n",
    "            elif key<a[mid]:\n",
    "\n",
    "                return self.BSearch(a,l,mid-1,key)\n",
    "            else:\n",
    "                return self.BSearch(a,mid+1,h,key)\n",
    "            \n",
    "        else:\n",
    "            return -1\n",
    "b=BS()\n",
    "a=[3,6,8,9,12,15,17,33]\n",
    "position=b.BSearch(a,0,7,33)\n",
    "print(\"position of key is--\",position)\n",
    "position=b.BSearch(a,0,7,12)\n",
    "print(\"position of key is--\",position)\n",
    "position=b.BSearch(a,0,7,15)\n",
    "print(\"position of key is--\",position)"
   ]
  },
  {
   "cell_type": "code",
   "execution_count": null,
   "metadata": {},
   "outputs": [],
   "source": []
  }
 ],
 "metadata": {
  "kernelspec": {
   "display_name": "Python 3",
   "language": "python",
   "name": "python3"
  },
  "language_info": {
   "codemirror_mode": {
    "name": "ipython",
    "version": 3
   },
   "file_extension": ".py",
   "mimetype": "text/x-python",
   "name": "python",
   "nbconvert_exporter": "python",
   "pygments_lexer": "ipython3",
   "version": "3.8.5"
  }
 },
 "nbformat": 4,
 "nbformat_minor": 4
}
