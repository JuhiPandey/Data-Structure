{
 "cells": [
  {
   "cell_type": "code",
   "execution_count": 23,
   "metadata": {},
   "outputs": [
    {
     "name": "stdout",
     "output_type": "stream",
     "text": [
      "After insert-- [[], [], [], [], [], [5], [], [], [], []]\n",
      "After insert-- [[], [], [], [], [], [5], [], [], [18], []]\n",
      "After insert-- [[], [], [2], [], [], [5], [], [], [18], []]\n",
      "After insert-- [[], [], [2, 12], [], [], [5], [], [], [18], []]\n",
      "After insert-- [[], [], [2, 12, 22], [], [], [5], [], [], [18], []]\n",
      "After insert-- [[], [], [2, 12, 22, 32], [], [], [5], [], [], [18], []]\n"
     ]
    }
   ],
   "source": [
    "class hash_new:\n",
    "    \n",
    "    hash_table=[[] for _ in range(10)]\n",
    "    \n",
    "    \n",
    "    def hash_func(self,x):\n",
    "        index_val=x % len(self.hash_table)\n",
    "        return index_val\n",
    "    \n",
    "\n",
    "     \n",
    "    def insert_key(self,key):\n",
    "        iv=self.hash_func(key)\n",
    "        self.hash_table[iv].append(key)\n",
    "        print(\"After insert--\",self.hash_table)\n",
    "        \n",
    "        \n",
    "        \n",
    "    def hash_print(self):\n",
    "        print(\"This is my hash table---\")\n",
    "        print(self.hash_table)\n",
    "    \n",
    "        \n",
    "g=hash_new()\n",
    "\n",
    "g.insert_key(5)\n",
    "g.insert_key(18)\n",
    "g.insert_key(2)\n",
    "g.insert_key(12)\n",
    "g.insert_key(22)\n",
    "g.insert_key(32)"
   ]
  },
  {
   "cell_type": "code",
   "execution_count": null,
   "metadata": {},
   "outputs": [],
   "source": []
  }
 ],
 "metadata": {
  "kernelspec": {
   "display_name": "Python 3",
   "language": "python",
   "name": "python3"
  },
  "language_info": {
   "codemirror_mode": {
    "name": "ipython",
    "version": 3
   },
   "file_extension": ".py",
   "mimetype": "text/x-python",
   "name": "python",
   "nbconvert_exporter": "python",
   "pygments_lexer": "ipython3",
   "version": "3.8.5"
  }
 },
 "nbformat": 4,
 "nbformat_minor": 4
}
