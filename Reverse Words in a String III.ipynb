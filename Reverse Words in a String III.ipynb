{
 "cells": [
  {
   "cell_type": "code",
   "execution_count": 8,
   "metadata": {},
   "outputs": [
    {
     "name": "stdout",
     "output_type": "stream",
     "text": [
      "Let's take LeetCode contest\n",
      "[\"Let's\", 'take', 'LeetCode', 'contest']\n",
      "['contest', 'LeetCode', 'take', \"Let's\"]\n",
      "s'teL ekat edoCteeL tsetnoc\n"
     ]
    }
   ],
   "source": [
    "class Solution:\n",
    "\n",
    "    def reverseWords(self, s: str) -> str:\n",
    "        s=s.split()\n",
    "        for i in range(len(s)):\n",
    "            s[i]=s[i][::-1]\n",
    "        return \" \".join(s)\n",
    "        \n",
    "o=Solution()\n",
    "s = \"Let's take LeetCode contest\"\n",
    "o.reverseWords(s)"
   ]
  },
  {
   "cell_type": "code",
   "execution_count": null,
   "metadata": {},
   "outputs": [],
   "source": []
  }
 ],
 "metadata": {
  "kernelspec": {
   "display_name": "Python 3",
   "language": "python",
   "name": "python3"
  },
  "language_info": {
   "codemirror_mode": {
    "name": "ipython",
    "version": 3
   },
   "file_extension": ".py",
   "mimetype": "text/x-python",
   "name": "python",
   "nbconvert_exporter": "python",
   "pygments_lexer": "ipython3",
   "version": "3.8.5"
  }
 },
 "nbformat": 4,
 "nbformat_minor": 4
}
