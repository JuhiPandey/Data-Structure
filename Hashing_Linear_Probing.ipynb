{
 "cells": [
  {
   "cell_type": "code",
   "execution_count": 35,
   "metadata": {},
   "outputs": [
    {
     "name": "stdout",
     "output_type": "stream",
     "text": [
      "After insert-- [None, None, None, None, None, None, 5, None, None, None]\n",
      "After insert-- [None, None, None, None, None, None, 5, None, None, 18]\n",
      "After insert-- [None, None, None, 2, None, None, 5, None, None, 18]\n",
      "After insert-- [None, None, None, 2, 12, None, 5, None, None, 18]\n",
      "After insert-- [None, None, None, 2, 12, 22, 5, None, None, 18]\n",
      "After insert-- [None, None, None, 2, 12, 22, 5, 32, None, 18]\n"
     ]
    }
   ],
   "source": [
    "class hash_new:\n",
    "    \n",
    "    hash_table=[None]*10\n",
    "    \n",
    "    def hash_func(self,x):\n",
    "        index_val=x % len(self.hash_table)\n",
    "        return index_val\n",
    "    \n",
    "    def hash_func_linear_probing(self,x):\n",
    "        index_val=self.hash_func(x)+1\n",
    "        return index_val\n",
    "     \n",
    "    def insert_key(self,key):\n",
    "        iv=self.hash_func_linear_probing(key)\n",
    "        \n",
    "        if  self.hash_table[iv] is None:\n",
    "            self.hash_table[iv]=key\n",
    "            print(\"After insert--\",self.hash_table)\n",
    "        else:#collision occured\n",
    "                while(self.hash_table[iv] is not None):\n",
    "                    iv=self.hash_func_linear_probing(iv)\n",
    "                    \n",
    "                self.hash_table[iv]=key    \n",
    "                print(\"After insert--\",self.hash_table)\n",
    "        \n",
    "    def hash_print(self):\n",
    "        print(\"This is my hash table---\")\n",
    "        print(self.hash_table)\n",
    "    \n",
    "        \n",
    "g=hash_new()\n",
    "\n",
    "g.insert_key(5)\n",
    "g.insert_key(18)\n",
    "g.insert_key(2)\n",
    "g.insert_key(12)\n",
    "g.insert_key(22)\n",
    "g.insert_key(32)"
   ]
  },
  {
   "cell_type": "code",
   "execution_count": null,
   "metadata": {},
   "outputs": [],
   "source": []
  }
 ],
 "metadata": {
  "kernelspec": {
   "display_name": "Python 3",
   "language": "python",
   "name": "python3"
  },
  "language_info": {
   "codemirror_mode": {
    "name": "ipython",
    "version": 3
   },
   "file_extension": ".py",
   "mimetype": "text/x-python",
   "name": "python",
   "nbconvert_exporter": "python",
   "pygments_lexer": "ipython3",
   "version": "3.8.5"
  }
 },
 "nbformat": 4,
 "nbformat_minor": 4
}
