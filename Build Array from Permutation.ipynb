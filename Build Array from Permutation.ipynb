{
 "cells": [
  {
   "cell_type": "code",
   "execution_count": 13,
   "metadata": {},
   "outputs": [
    {
     "name": "stdout",
     "output_type": "stream",
     "text": [
      "Before-- [0, 2, 1, 4, 3, 6, 5]\n",
      "After [0, 1, 2, 3, 4, 5, 6]\n"
     ]
    }
   ],
   "source": [
    "class Solution:\n",
    "    def arraybuild(Self,a):\n",
    "        temp=list()\n",
    "        print(\"Before--\",a)\n",
    "        for i in range(0,len(a)):\n",
    "            id=a[i]\n",
    "            temp.append(a[id])\n",
    "        print(\"After\",temp)    \n",
    "        \n",
    "        \n",
    "s=Solution()\n",
    "a=[0,2,1,4,3,6,5]\n",
    "s.arraybuild(a)\n",
    "        "
   ]
  },
  {
   "cell_type": "code",
   "execution_count": null,
   "metadata": {},
   "outputs": [],
   "source": []
  }
 ],
 "metadata": {
  "kernelspec": {
   "display_name": "Python 3",
   "language": "python",
   "name": "python3"
  },
  "language_info": {
   "codemirror_mode": {
    "name": "ipython",
    "version": 3
   },
   "file_extension": ".py",
   "mimetype": "text/x-python",
   "name": "python",
   "nbconvert_exporter": "python",
   "pygments_lexer": "ipython3",
   "version": "3.8.5"
  }
 },
 "nbformat": 4,
 "nbformat_minor": 4
}
