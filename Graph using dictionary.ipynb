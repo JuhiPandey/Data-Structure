{
 "cells": [
  {
   "cell_type": "code",
   "execution_count": 56,
   "metadata": {},
   "outputs": [
    {
     "name": "stdout",
     "output_type": "stream",
     "text": [
      "{'1': ['2']}\n",
      "{'1': ['2']}\n",
      "{'1': ['2'], '2': ['3']}\n",
      "{'1': ['2'], '2': ['3', '1']}\n",
      "{'1': ['2'], '2': ['3', '1'], '3': ['1']}\n",
      "{'1': ['2'], '2': ['3', '1'], '3': ['1', '2']}\n",
      "{'1': ['2'], '2': ['3', '1'], '3': ['1', '2', '4']}\n",
      "{'1': ['2'], '2': ['3', '1'], '3': ['1', '2', '4'], '4': ['3']}\n",
      "( 1 ,  2 )\n",
      "( 2 ,  3 )\n",
      "( 2 ,  1 )\n",
      "( 3 ,  1 )\n",
      "( 3 ,  2 )\n",
      "( 3 ,  4 )\n",
      "( 4 ,  3 )\n"
     ]
    }
   ],
   "source": [
    "\n",
    "class Graph:\n",
    "    \n",
    "    graph_dict={}\n",
    "    \n",
    "    def addEdge(self,node,neighbour):  \n",
    "        if node not in self.graph_dict:\n",
    "            self.graph_dict[node]=[neighbour]\n",
    "        else:\n",
    "            if neighbour not in self.graph_dict[node]:\n",
    "                self.graph_dict[node].append(neighbour)\n",
    "        print  ( self.graph_dict)\n",
    "    def show_edges(self):\n",
    "        for node in self.graph_dict:\n",
    "            for neighbour in self.graph_dict[node]:\n",
    "                print(\"(\",node,\", \",neighbour,\")\")\n",
    "            \n",
    "\n",
    "g= Graph()\n",
    "g.addEdge('1', '2')\n",
    "g.addEdge('1', '2')\n",
    "g.addEdge('2', '3')\n",
    "g.addEdge('2', '1')\n",
    "g.addEdge('3', '1')\n",
    "g.addEdge('3', '2')\n",
    "g.addEdge('3', '4')\n",
    "g.addEdge('4', '3')\n",
    "g.show_edges()\n"
   ]
  },
  {
   "cell_type": "code",
   "execution_count": 52,
   "metadata": {},
   "outputs": [
    {
     "name": "stdout",
     "output_type": "stream",
     "text": [
      "want to see node values??? [4]\n",
      "want to see node values??? [4]\n",
      "want to see node values??? [4]\n"
     ]
    }
   ],
   "source": [
    "class graph_new:\n",
    "    \n",
    "    graph_dict={}\n",
    "    \n",
    "    def add_Edge(self,node,neighbour):\n",
    "        \n",
    "        if node not in self.graph_dict:\n",
    "            self.graph_dict[node]=[neighbour]\n",
    "            print(\"want to see node values???\",self.graph_dict[node])\n",
    "        elif neighbour not in self.graph_dict[node]:\n",
    "            print(\"want to see node values???\",self.graph_dict[node])\n",
    "            self.graph_dict[node].append(neighbour)\n",
    "        else:\n",
    "            next\n",
    "        \n",
    "g=graph_new()\n",
    "g.add_Edge(2,4)\n",
    "g.add_Edge(2,5)\n",
    "g.add_Edge(3,4)"
   ]
  },
  {
   "cell_type": "code",
   "execution_count": null,
   "metadata": {},
   "outputs": [],
   "source": [
    "class graph_new:\n",
    "    graph_dict={}\n",
    "    \n",
    "    def add_edge(self,node,neighbour):\n",
    "        if node not in self.graph_dict:\n",
    "            self.graph_dict[node]=[neighbour]\n",
    "        else:\n",
    "            self.graph_dict[neighbour].append(neighbour)"
   ]
  },
  {
   "cell_type": "code",
   "execution_count": 37,
   "metadata": {},
   "outputs": [
    {
     "name": "stdout",
     "output_type": "stream",
     "text": [
      "{0: 1, 1: 2, 2: 3, 3: 4}\n"
     ]
    },
    {
     "ename": "AttributeError",
     "evalue": "'int' object has no attribute 'append'",
     "output_type": "error",
     "traceback": [
      "\u001b[1;31m---------------------------------------------------------------------------\u001b[0m",
      "\u001b[1;31mAttributeError\u001b[0m                            Traceback (most recent call last)",
      "\u001b[1;32m<ipython-input-37-064192f5dc21>\u001b[0m in \u001b[0;36m<module>\u001b[1;34m\u001b[0m\n\u001b[0;32m      6\u001b[0m \u001b[0mprint\u001b[0m\u001b[1;33m(\u001b[0m\u001b[0mdicts\u001b[0m\u001b[1;33m)\u001b[0m\u001b[1;33m\u001b[0m\u001b[1;33m\u001b[0m\u001b[0m\n\u001b[0;32m      7\u001b[0m \u001b[1;33m\u001b[0m\u001b[0m\n\u001b[1;32m----> 8\u001b[1;33m \u001b[0mdicts\u001b[0m\u001b[1;33m[\u001b[0m\u001b[1;36m0\u001b[0m\u001b[1;33m]\u001b[0m\u001b[1;33m.\u001b[0m\u001b[0mappend\u001b[0m\u001b[1;33m(\u001b[0m\u001b[1;36m9\u001b[0m\u001b[1;33m)\u001b[0m\u001b[1;33m\u001b[0m\u001b[1;33m\u001b[0m\u001b[0m\n\u001b[0m",
      "\u001b[1;31mAttributeError\u001b[0m: 'int' object has no attribute 'append'"
     ]
    }
   ],
   "source": [
    "dicts = {}\n",
    "keys = range(4)\n",
    "values = [1,2,3,4,5]\n",
    "for i in keys:\n",
    "        dicts[i] = values[i]\n",
    "print(dicts)  \n",
    "\n",
    "dicts[0].append(9)"
   ]
  },
  {
   "cell_type": "code",
   "execution_count": null,
   "metadata": {},
   "outputs": [],
   "source": []
  }
 ],
 "metadata": {
  "kernelspec": {
   "display_name": "Python 3",
   "language": "python",
   "name": "python3"
  },
  "language_info": {
   "codemirror_mode": {
    "name": "ipython",
    "version": 3
   },
   "file_extension": ".py",
   "mimetype": "text/x-python",
   "name": "python",
   "nbconvert_exporter": "python",
   "pygments_lexer": "ipython3",
   "version": "3.8.5"
  }
 },
 "nbformat": 4,
 "nbformat_minor": 4
}
