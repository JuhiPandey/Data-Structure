{
 "cells": [
  {
   "cell_type": "code",
   "execution_count": 74,
   "metadata": {},
   "outputs": [
    {
     "name": "stdout",
     "output_type": "stream",
     "text": [
      "{'1': ['2']}\n",
      "{'1': ['2']}\n",
      "{'1': ['2'], '2': ['3']}\n",
      "{'1': ['2'], '2': ['3', '1']}\n",
      "{'1': ['2'], '2': ['3', '1'], '3': ['1']}\n",
      "{'1': ['2'], '2': ['3', '1'], '3': ['1']}\n",
      "{'1': ['2'], '2': ['3', '1'], '3': ['1', '2']}\n",
      "{'1': ['2'], '2': ['3', '1'], '3': ['1', '2', '4']}\n",
      "{'1': ['2'], '2': ['3', '1'], '3': ['1', '2', '4'], '4': ['3']}\n",
      "{'1': ['2'], '2': ['3', '1'], '3': ['1', '2', '4'], '4': ['3', '1']}\n",
      "['4']\n",
      "start ['3', '1']\n",
      "node- 3\n",
      "path- ['4']\n",
      "['4', '3']\n",
      "start ['1', '2', '4']\n",
      "node- 1\n",
      "path- ['4', '3']\n",
      "['4', '3', '1']\n",
      "path----- ['4', '3', '1']\n"
     ]
    }
   ],
   "source": [
    "\n",
    "class Graph_new:\n",
    "    \n",
    "    graph_dict={}\n",
    "    \n",
    "    def addEdge(self,node,neighbour):  \n",
    "        if node not in self.graph_dict:\n",
    "            self.graph_dict[node]=[neighbour]\n",
    "        else:\n",
    "            if neighbour not in self.graph_dict[node]:\n",
    "                self.graph_dict[node].append(neighbour)\n",
    "        print  (self.graph_dict)\n",
    "\n",
    "            \n",
    "\n",
    "    def find_path(self,start,end,path=[]):\\\n",
    "        \n",
    "        path = path + [start] \n",
    "        print(path)\n",
    "        if start==end:\n",
    "            return path\n",
    "        for node in self.graph_dict[start]:\n",
    "            print('start',self.graph_dict[start])\n",
    "            if node not in path:\n",
    "                print(\"node-\",node)\n",
    "                print(\"path-\",path)\n",
    "                newPath=self.find_path(node,end,path)\n",
    "                if newPath:\n",
    "                    return newPath\n",
    "                return None\n",
    "\n",
    "g= Graph_new()\n",
    "g.addEdge('1', '2')\n",
    "g.addEdge('1', '2')\n",
    "g.addEdge('2', '3')\n",
    "g.addEdge('2', '1')\n",
    "g.addEdge('3', '1')\n",
    "g.addEdge('3', '1')\n",
    "g.addEdge('3', '2')\n",
    "g.addEdge('3', '4')\n",
    "g.addEdge('4', '3')\n",
    "g.addEdge('4', '1')\n",
    "print('path-----',g.find_path('4','1'))\n"
   ]
  },
  {
   "cell_type": "code",
   "execution_count": null,
   "metadata": {},
   "outputs": [],
   "source": []
  }
 ],
 "metadata": {
  "kernelspec": {
   "display_name": "Python 3",
   "language": "python",
   "name": "python3"
  },
  "language_info": {
   "codemirror_mode": {
    "name": "ipython",
    "version": 3
   },
   "file_extension": ".py",
   "mimetype": "text/x-python",
   "name": "python",
   "nbconvert_exporter": "python",
   "pygments_lexer": "ipython3",
   "version": "3.8.5"
  }
 },
 "nbformat": 4,
 "nbformat_minor": 4
}
