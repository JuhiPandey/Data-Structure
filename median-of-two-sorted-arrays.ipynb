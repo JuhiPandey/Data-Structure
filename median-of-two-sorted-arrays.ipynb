{
 "cells": [
  {
   "cell_type": "code",
   "execution_count": 21,
   "metadata": {},
   "outputs": [
    {
     "data": {
      "text/plain": [
       "[2]"
      ]
     },
     "execution_count": 21,
     "metadata": {},
     "output_type": "execute_result"
    }
   ],
   "source": [
    "class Solution:\n",
    "    def meadianOfArray(self,a,b):\n",
    "    #Median = (n + 1) / 2\n",
    "        c=a+b\n",
    "        \n",
    "         \n",
    "        \n",
    "        if len(c)==1:\n",
    "            return c\n",
    "        \n",
    "        elif len(c) % 2 !=0:\n",
    "            middle=(len(c)//2)+1\n",
    "            print(len(c))\n",
    "            return c[middle]\n",
    "            \n",
    "        else:\n",
    "            t=(a[len(a)-1] + b[0])/2\n",
    "            return t\n",
    "        \n",
    "    \n",
    "s=Solution()\n",
    "a=[2]\n",
    "b=[]\n",
    "s.meadianOfArray(a,b)"
   ]
  },
  {
   "cell_type": "code",
   "execution_count": null,
   "metadata": {},
   "outputs": [],
   "source": []
  }
 ],
 "metadata": {
  "kernelspec": {
   "display_name": "Python 3",
   "language": "python",
   "name": "python3"
  },
  "language_info": {
   "codemirror_mode": {
    "name": "ipython",
    "version": 3
   },
   "file_extension": ".py",
   "mimetype": "text/x-python",
   "name": "python",
   "nbconvert_exporter": "python",
   "pygments_lexer": "ipython3",
   "version": "3.8.5"
  }
 },
 "nbformat": 4,
 "nbformat_minor": 4
}
