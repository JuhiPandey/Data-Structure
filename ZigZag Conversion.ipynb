{
 "cells": [
  {
   "cell_type": "code",
   "execution_count": 8,
   "metadata": {},
   "outputs": [
    {
     "name": "stdout",
     "output_type": "stream",
     "text": [
      "Given String- PAYPALISHIRING\n",
      "Zig Zag String- ['P', 'A', 'H', 'N', 'A', 'P', 'L', 'S', 'I', 'I', 'G', 'Y', 'I', 'R']\n"
     ]
    }
   ],
   "source": [
    "class Solution:\n",
    "    def task(self,a):\n",
    "        f=list()\n",
    "        print(\"Given String-\",a)\n",
    "        l=len(a)\n",
    "        if len(a)<3:\n",
    "            print(\"Try to give big string\")\n",
    "        else:\n",
    "            for i in range(0,l,4):\n",
    "                f.append(a[i])\n",
    "            for j in range(1,l,2):\n",
    "                f.append(a[j])\n",
    "            for k in range(2,l,4):\n",
    "                f.append(a[k])\n",
    "        print(\"Zig Zag String-\",f)        \n",
    "\n",
    "              \n",
    "s=Solution()\n",
    "a=\"PAYPALISHIRING\"     \n",
    "s.task(a)              "
   ]
  },
  {
   "cell_type": "code",
   "execution_count": null,
   "metadata": {},
   "outputs": [],
   "source": [
    "PAHNAPLSIIGYIR"
   ]
  }
 ],
 "metadata": {
  "kernelspec": {
   "display_name": "Python 3",
   "language": "python",
   "name": "python3"
  },
  "language_info": {
   "codemirror_mode": {
    "name": "ipython",
    "version": 3
   },
   "file_extension": ".py",
   "mimetype": "text/x-python",
   "name": "python",
   "nbconvert_exporter": "python",
   "pygments_lexer": "ipython3",
   "version": "3.8.5"
  }
 },
 "nbformat": 4,
 "nbformat_minor": 4
}
