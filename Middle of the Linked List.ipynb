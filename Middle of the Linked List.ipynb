{
 "cells": [
  {
   "cell_type": "code",
   "execution_count": 24,
   "metadata": {},
   "outputs": [
    {
     "name": "stdout",
     "output_type": "stream",
     "text": [
      "[1, 2, 3, 4, 5]\n",
      "5\n",
      "2 5\n",
      "[3, 4, 5]\n"
     ]
    }
   ],
   "source": [
    "class Solution:\n",
    "    def middleOfLinkedList(self,head):\n",
    "        print(head)\n",
    "        slow=0\n",
    "        fast=1\n",
    "        print(len(head))\n",
    "        while fast<len(head):\n",
    "            slow=slow+1\n",
    "           \n",
    "            fast=fast+2\n",
    "        print(slow,fast)  \n",
    "        print(head[slow:])    \n",
    "        \n",
    "l=[1,2,3,4,5]\n",
    "s=Solution()\n",
    "s.middleOfLinkedList(l)"
   ]
  },
  {
   "cell_type": "code",
   "execution_count": null,
   "metadata": {},
   "outputs": [],
   "source": []
  }
 ],
 "metadata": {
  "kernelspec": {
   "display_name": "Python 3",
   "language": "python",
   "name": "python3"
  },
  "language_info": {
   "codemirror_mode": {
    "name": "ipython",
    "version": 3
   },
   "file_extension": ".py",
   "mimetype": "text/x-python",
   "name": "python",
   "nbconvert_exporter": "python",
   "pygments_lexer": "ipython3",
   "version": "3.8.5"
  }
 },
 "nbformat": 4,
 "nbformat_minor": 4
}
