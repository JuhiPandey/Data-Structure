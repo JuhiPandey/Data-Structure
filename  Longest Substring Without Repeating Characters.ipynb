{
 "cells": [
  {
   "cell_type": "code",
   "execution_count": 55,
   "metadata": {},
   "outputs": [
    {
     "name": "stdout",
     "output_type": "stream",
     "text": [
      "['juhi', '', 'hij', '', 'ijh', '', '', '', '', '']\n",
      "[4, 0, 3, 0, 3, 0, 0, 0, 0, 0]\n",
      "4\n"
     ]
    }
   ],
   "source": [
    "class Solution:\n",
    "    def longestSubstring(self,s):\n",
    "        c=0\n",
    "        l=list()\n",
    "        for i in range(0,len(s)):\n",
    "            for j in range(1,len(s)):\n",
    "               \n",
    "                \n",
    "                if s[i]!=s[j]:\n",
    "                    c=c+1\n",
    "                  \n",
    "                else:\n",
    "                       \n",
    "                      \n",
    "                    l.append(s[i:j])\n",
    "                    c=0\n",
    "        l.remove(\"\")            \n",
    "        print(l)\n",
    "        t=[]\n",
    "        for i in range(0,len(l)):\n",
    "    \n",
    "            t.append(len(l[i]))\n",
    "        print(t)\n",
    "        print(max(t))    \n",
    "        \n",
    "s=Solution()\n",
    "t=\"juhijhi\"\n",
    "s.longestSubstring(t)"
   ]
  }
 ],
 "metadata": {
  "kernelspec": {
   "display_name": "Python 3",
   "language": "python",
   "name": "python3"
  },
  "language_info": {
   "codemirror_mode": {
    "name": "ipython",
    "version": 3
   },
   "file_extension": ".py",
   "mimetype": "text/x-python",
   "name": "python",
   "nbconvert_exporter": "python",
   "pygments_lexer": "ipython3",
   "version": "3.8.5"
  }
 },
 "nbformat": 4,
 "nbformat_minor": 4
}
