{
 "cells": [
  {
   "cell_type": "code",
   "execution_count": 23,
   "metadata": {},
   "outputs": [
    {
     "name": "stdout",
     "output_type": "stream",
     "text": [
      "Given array is - [1, 8, 6, 2, 5, 4, 7, 8]\n",
      "64\n",
      "Given array is - [4, 3, 2, 1, 4]\n",
      "16\n",
      "Given array is - [1, 2, 1]\n",
      "[1, 1]\n",
      "1\n",
      "Given array is - [2, 2]\n",
      "4\n"
     ]
    }
   ],
   "source": [
    "class Solution:\n",
    "    def task(self,l):\n",
    "        max1=max(l)\n",
    "        print(\"Given array is -\",l)\n",
    "        c=0\n",
    "        a=list()\n",
    "        if len(l)<=1:\n",
    "            return -1\n",
    "        else:\n",
    "            for i in range(0,len(l)):\n",
    "                if l[i]!=max1:\n",
    "                    \n",
    "                    c=c+1\n",
    "                    a.append(l[i])\n",
    "                    \n",
    "        rest=len(l)-c\n",
    "        if rest>=2:\n",
    "            return max1*max1\n",
    "        else:\n",
    "            print(a)\n",
    "            max2=max(a)\n",
    "            return max2*max2\n",
    "            \n",
    "s=Solution()\n",
    "a=[1,8,6,2,5,4,7,8]\n",
    "output=s.task(a)\n",
    "print(output)\n",
    "\n",
    "b=[4,3,2,1,4]\n",
    "output=s.task(b)\n",
    "print(output)\n",
    "\n",
    "\n",
    "c=[1,2,1]\n",
    "output=s.task(c)\n",
    "print(output)\n",
    "\n",
    "\n",
    "d=[2,2]\n",
    "output=s.task(d)\n",
    "print(output)"
   ]
  },
  {
   "cell_type": "code",
   "execution_count": null,
   "metadata": {},
   "outputs": [],
   "source": []
  }
 ],
 "metadata": {
  "kernelspec": {
   "display_name": "Python 3",
   "language": "python",
   "name": "python3"
  },
  "language_info": {
   "codemirror_mode": {
    "name": "ipython",
    "version": 3
   },
   "file_extension": ".py",
   "mimetype": "text/x-python",
   "name": "python",
   "nbconvert_exporter": "python",
   "pygments_lexer": "ipython3",
   "version": "3.8.5"
  }
 },
 "nbformat": 4,
 "nbformat_minor": 4
}
