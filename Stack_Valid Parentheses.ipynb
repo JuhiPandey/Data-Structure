{
 "cells": [
  {
   "cell_type": "code",
   "execution_count": 16,
   "metadata": {},
   "outputs": [
    {
     "name": "stdout",
     "output_type": "stream",
     "text": [
      "Given array- {()}[]{\n",
      "Not Balanced\n"
     ]
    }
   ],
   "source": [
    "class Solution:\n",
    "   \n",
    "    stack=[]\n",
    "   \n",
    "    def solution(self,s):\n",
    "        print(\"Given array-\",s)\n",
    "        \n",
    "        \n",
    "        if s[0] not in ['(','[','{']:\n",
    "                print(\"Not Balanced\")\n",
    "        \n",
    "        for char in s:\n",
    "                if char in ['(','[','{']:\n",
    "                    self.stack.append(char)\n",
    "                    \n",
    "                else:\n",
    "                    current_char=self.stack.pop()\n",
    "                    if current_char=='{':\n",
    "                        if char!='}':\n",
    "                            return False\n",
    "                        \n",
    "                    if current_char=='(':\n",
    "                        if char!=')':\n",
    "                            return False\n",
    "                        \n",
    "                    if current_char=='[':\n",
    "                        if char!=']':\n",
    "                            return False    \n",
    "                        \n",
    "                    \n",
    "                    \n",
    "        if self.stack:\n",
    "        \n",
    "            return False\n",
    "        return  True\n",
    "\n",
    "s=Solution()\n",
    "exp=\"{()}[]{\"\n",
    "if s.solution(exp):\n",
    "    print(\"Balanced\")\n",
    "else:\n",
    "    print(\"Not Balanced\")\n",
    "\n"
   ]
  },
  {
   "cell_type": "code",
   "execution_count": null,
   "metadata": {},
   "outputs": [],
   "source": []
  }
 ],
 "metadata": {
  "kernelspec": {
   "display_name": "Python 3",
   "language": "python",
   "name": "python3"
  },
  "language_info": {
   "codemirror_mode": {
    "name": "ipython",
    "version": 3
   },
   "file_extension": ".py",
   "mimetype": "text/x-python",
   "name": "python",
   "nbconvert_exporter": "python",
   "pygments_lexer": "ipython3",
   "version": "3.8.5"
  }
 },
 "nbformat": 4,
 "nbformat_minor": 4
}
